{
 "cells": [
  {
   "cell_type": "code",
   "execution_count": 117,
   "id": "2a5fbb51-19e2-4470-a7c2-7a9b307405f5",
   "metadata": {},
   "outputs": [],
   "source": [
    "import numpy as np"
   ]
  },
  {
   "cell_type": "code",
   "execution_count": 118,
   "id": "caeaa5e9-5b09-482c-b265-0b85490b504e",
   "metadata": {},
   "outputs": [],
   "source": [
    "def perm_function(x, beta=10):\n",
    "    x1, x2 = x\n",
    "    S1 = (1 + beta) * (x1 - 1) + (2 + beta) * (x2 - 0.5)\n",
    "    S2 = (1 + beta) * (x1**2 - 1) + (2 + beta) * (x2**2 - 0.25)\n",
    "    return S1**2 + S2**2"
   ]
  },
  {
   "cell_type": "code",
   "execution_count": 119,
   "id": "52554a75-6c69-425b-8b75-7143996b74c3",
   "metadata": {},
   "outputs": [],
   "source": [
    "# Gradient\n",
    "def perm_function_gradient(x, beta=10):\n",
    "    x1, x2 = x\n",
    "    S1 = (1 + beta) * (x1 - 1) + (2 + beta) * (x2 - 0.5)\n",
    "    S2 = (1 + beta) * (x1**2 - 1) + (2 + beta) * (x2**2 - 0.25)\n",
    "    grad_x1 = 2 * (1 + beta) * S1 + 4 * (1 + beta) * x1 * S2\n",
    "    grad_x2 = 2 * (2 + beta) * S1 + 4 * (2 + beta) * x2 * S2\n",
    "    return np.array([grad_x1, grad_x2])"
   ]
  },
  {
   "cell_type": "code",
   "execution_count": 120,
   "id": "85eec179-65ac-4f99-8c02-9954350c1771",
   "metadata": {},
   "outputs": [],
   "source": [
    "# Hessian\n",
    "def perm_function_hessian(x, beta=10):\n",
    "    x1, x2 = x\n",
    "    S1 = (1 + beta) * (x1 - 1) + (2 + beta) * (x2 - 0.5)\n",
    "    S2 = (1 + beta) * (x1**2 - 1) + (2 + beta) * (x2**2 - 0.25)\n",
    "    H11 = 2 * (1 + beta)**2 + 8 * (1 + beta)**2 * x1**2 + 4 * (1 + beta) * S2\n",
    "    H22 = 2 * (2 + beta)**2 + 8 * (2 + beta)**2 * x2**2 + 4 * (2 + beta) * S2\n",
    "    H12 = 2 * (1 + beta) * (2 + beta) + 8 * (1 + beta) * (2 + beta) * x1 * x2\n",
    "    return np.array([[H11, H12], [H12, H22]])"
   ]
  },
  {
   "cell_type": "code",
   "execution_count": 121,
   "id": "24b667b7-8606-42aa-911b-f11cd58e71d6",
   "metadata": {},
   "outputs": [],
   "source": [
    "def constraint(x):\n",
    "    x1, x2 = x\n",
    "    return x2 - (x1**2 - 1)"
   ]
  },
  {
   "cell_type": "code",
   "execution_count": 122,
   "id": "901d14ce-145c-4db8-a77c-b6382c66ec54",
   "metadata": {},
   "outputs": [],
   "source": [
    "def constraint_jacobian(x):\n",
    "    x1, x2 = x\n",
    "    return np.array([-2 * x1, 1])"
   ]
  },
  {
   "cell_type": "code",
   "execution_count": 123,
   "id": "b3ed69ba-5b89-4923-ab06-a1fab38edf58",
   "metadata": {},
   "outputs": [],
   "source": [
    "def newton_solver(x0, tol=1e-6, max_iter=50, beta=10):\n",
    "    x = np.array(x0)\n",
    "    for i in range(max_iter):\n",
    "        grad = perm_function_gradient(x, beta)\n",
    "        hess = perm_function_hessian(x, beta)\n",
    "        g = constraint(x)\n",
    "        g_jac = constraint_jacobian(x)\n",
    "        KKT_matrix = np.block([\n",
    "            [hess, g_jac[:, None]],\n",
    "            [g_jac[None, :], np.zeros((1, 1))]\n",
    "        ])\n",
    "        KKT_rhs = -np.append(grad, g)\n",
    "        try:\n",
    "            step = np.linalg.solve(KKT_matrix, KKT_rhs)\n",
    "        except np.linalg.LinAlgError:\n",
    "            raise ValueError(\"Hessian is ill-conditioned.\")\n",
    "        delta_x = step[:-1]\n",
    "        x += delta_x\n",
    "        if np.linalg.norm(delta_x) < tol:\n",
    "            print(f\"Converged in {i + 1} iterations.\")\n",
    "            return x, perm_function(x, beta)\n",
    "\n",
    "    raise ValueError(\"Did not converge.\")"
   ]
  },
  {
   "cell_type": "code",
   "execution_count": 124,
   "id": "0513271d-1d98-45ee-93c6-c9cbb1dff5cd",
   "metadata": {},
   "outputs": [
    {
     "name": "stdout",
     "output_type": "stream",
     "text": [
      "Converged in 7 iterations.\n",
      "Optimal solution: [1.13282148 0.2832845 ]\n",
      "Objective function optimum: 2.463096899086052\n"
     ]
    }
   ],
   "source": [
    "# Initial guess\n",
    "x0 = [0.5, 0.5]\n",
    "\n",
    "try:\n",
    "    solution, objective_value = newton_solver(x0)\n",
    "    print(\"Optimal solution:\", solution)\n",
    "    print(\"Objective function optimum:\", objective_value)\n",
    "except ValueError as e:\n",
    "    print(\"Error:\", e)"
   ]
  }
 ],
 "metadata": {
  "kernelspec": {
   "display_name": "Python 3 (ipykernel)",
   "language": "python",
   "name": "python3"
  },
  "language_info": {
   "codemirror_mode": {
    "name": "ipython",
    "version": 3
   },
   "file_extension": ".py",
   "mimetype": "text/x-python",
   "name": "python",
   "nbconvert_exporter": "python",
   "pygments_lexer": "ipython3",
   "version": "3.12.7"
  }
 },
 "nbformat": 4,
 "nbformat_minor": 5
}
