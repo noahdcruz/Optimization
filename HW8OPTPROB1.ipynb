{
 "cells": [
  {
   "cell_type": "code",
   "execution_count": 13,
   "id": "754fc624",
   "metadata": {},
   "outputs": [],
   "source": [
    "import numpy as np"
   ]
  },
  {
   "cell_type": "code",
   "execution_count": 14,
   "id": "d7d3e0fa",
   "metadata": {},
   "outputs": [],
   "source": [
    "#fucntions and thier graidents\n",
    "def f1(x, y):\n",
    "    return (x - 0.5)**2 + 2 * (y - 0.75)**2\n",
    "\n",
    "def grad_f1(x, y):\n",
    "    return np.array([2 * (x - 0.5), 4 * (y - 0.75)])\n",
    "\n",
    "def f2(x, y):\n",
    "    return (x - 2)**2 + 2 * (y - 1.5)**2\n",
    "\n",
    "def grad_f2(x, y):\n",
    "    return np.array([2 * (x - 2), 4 * (y - 1.5)])"
   ]
  },
  {
   "cell_type": "code",
   "execution_count": 15,
   "id": "2b26e091",
   "metadata": {},
   "outputs": [],
   "source": [
    "#constraints\n",
    "def project(x, y, x_bounds, y_bounds):\n",
    "    x = np.clip(x, *x_bounds)\n",
    "    y = np.clip(y, *y_bounds)\n",
    "    return x, y\n",
    "\n",
    "# Projected Gradient Descent\n",
    "def projected(f, grad_f, x_init, y_init, x_bounds, y_bounds, lr=0.3, tol=1e-3, max_iter=1000):\n",
    "    x, y = x_init, y_init\n",
    "    for iteration in range(max_iter):\n",
    "        grad = grad_f(x, y)\n",
    "        x_new = x - lr * grad[0]\n",
    "        y_new = y - lr * grad[1]\n",
    "        \n",
    "        # New points\n",
    "        x, y = project(x_new, y_new, x_bounds, y_bounds)\n",
    "        \n",
    "        # Convergense\n",
    "        if np.linalg.norm(grad) < tol:\n",
    "            break\n",
    "    return x, y, iteration + 1 "
   ]
  },
  {
   "cell_type": "code",
   "execution_count": 16,
   "id": "c025f428",
   "metadata": {},
   "outputs": [
    {
     "name": "stdout",
     "output_type": "stream",
     "text": [
      "Min f1: 0.499868928 0.74999936 Iterations: 9\n",
      "Min f2: 1.0 1.5 Iterations: 1000\n"
     ]
    }
   ],
   "source": [
    "# first funciton\n",
    "x_min_f1, y_min_f1, iterations_f1 = projected(f1, grad_f1, x_init=0, y_init=2, x_bounds=(-1, 1), y_bounds=(-2, 2))\n",
    "print(\"Min f1:\", x_min_f1, y_min_f1, \"Iterations:\", iterations_f1)\n",
    "\n",
    "# second function\n",
    "x_min_f2, y_min_f2, iterations_f2 = projected(f2, grad_f2, x_init=0, y_init=2, x_bounds=(-1, 1), y_bounds=(-2, 2))\n",
    "print(\"Min f2:\", x_min_f2, y_min_f2, \"Iterations:\", iterations_f2)\n"
   ]
  }
 ],
 "metadata": {
  "kernelspec": {
   "display_name": "Python 3 (ipykernel)",
   "language": "python",
   "name": "python3"
  },
  "language_info": {
   "codemirror_mode": {
    "name": "ipython",
    "version": 3
   },
   "file_extension": ".py",
   "mimetype": "text/x-python",
   "name": "python",
   "nbconvert_exporter": "python",
   "pygments_lexer": "ipython3",
   "version": "3.9.13"
  }
 },
 "nbformat": 4,
 "nbformat_minor": 5
}
