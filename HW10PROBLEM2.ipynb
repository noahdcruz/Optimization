{
 "cells": [
  {
   "cell_type": "code",
   "execution_count": 46,
   "id": "b85b9eeb-0621-48d3-b17c-45f9a96fb3f6",
   "metadata": {},
   "outputs": [],
   "source": [
    "from scipy.optimize import minimize\n",
    "import numpy as np"
   ]
  },
  {
   "cell_type": "code",
   "execution_count": 47,
   "id": "e8eff8b5-6c6d-4360-83b9-2d6042af79dd",
   "metadata": {},
   "outputs": [],
   "source": [
    "def perm_function(x, beta=10):\n",
    "    x1, x2 = x\n",
    "    S1 = (1 + beta) * (x1 - 1) + (2 + beta) * (x2 - 0.5)\n",
    "    S2 = (1 + beta) * (x1**2 - 1) + (2 + beta) * (x2**2 - 0.25)\n",
    "    return S1**2 + S2**2"
   ]
  },
  {
   "cell_type": "code",
   "execution_count": 48,
   "id": "a48ad03c-11d1-4a4f-95b9-477e04add3ab",
   "metadata": {},
   "outputs": [],
   "source": [
    "# gradient\n",
    "def perm_function_gradient(x, beta=10):\n",
    "    x1, x2 = x\n",
    "    S1 = (1 + beta) * (x1 - 1) + (2 + beta) * (x2 - 0.5)\n",
    "    S2 = (1 + beta) * (x1**2 - 1) + (2 + beta) * (x2**2 - 0.25)\n",
    "    grad_x1 = 2 * (1 + beta) * S1 + 4 * (1 + beta) * x1 * S2\n",
    "    grad_x2 = 2 * (2 + beta) * S1 + 4 * (2 + beta) * x2 * S2\n",
    "    return np.array([grad_x1, grad_x2])"
   ]
  },
  {
   "cell_type": "code",
   "execution_count": 49,
   "id": "175c8e55-792f-4e16-a905-d84f9fed8ca8",
   "metadata": {},
   "outputs": [],
   "source": [
    "def constraint(x):\n",
    "    x1, x2 = x\n",
    "    return x2 - (x1**2 - 1)"
   ]
  },
  {
   "cell_type": "code",
   "execution_count": 50,
   "id": "c328d9d0-0c95-4f92-90b1-57ef9779d522",
   "metadata": {},
   "outputs": [
    {
     "name": "stdout",
     "output_type": "stream",
     "text": [
      "Optimization terminated successfully    (Exit mode 0)\n",
      "            Current function value: 2.4630968993477182\n",
      "            Iterations: 8\n",
      "            Function evaluations: 13\n",
      "            Gradient evaluations: 8\n"
     ]
    }
   ],
   "source": [
    "# initial guess\n",
    "x0 = [0.5, 0.5]\n",
    "\n",
    "# constraint\n",
    "nonlinear_constraint = {'type': 'eq', 'fun': constraint}\n",
    "\n",
    "#SLSQP\n",
    "result = minimize(fun=perm_function,x0=x0,args=(10,),method='SLSQP',jac=perm_function_gradient,constraints=[nonlinear_constraint],options={'disp': True})"
   ]
  },
  {
   "cell_type": "code",
   "execution_count": 51,
   "id": "8371a6ca-d10b-4580-8f20-82e9ffa7c608",
   "metadata": {},
   "outputs": [
    {
     "name": "stdout",
     "output_type": "stream",
     "text": [
      "Optimal solution: [1.13282146 0.28328446]\n",
      "Objective function optimum: 2.4630968993477182\n",
      "Convergence status: Converges\n",
      "Optimization terminated successfully\n"
     ]
    }
   ],
   "source": [
    "print(\"Optimal solution:\", result.x)\n",
    "print(\"Objective function optimum:\", result.fun)\n",
    "print(\"Convergence status:\", \"Converges\" if result.success else \"didmt converge\")\n",
    "print(result.message)"
   ]
  }
 ],
 "metadata": {
  "kernelspec": {
   "display_name": "Python 3 (ipykernel)",
   "language": "python",
   "name": "python3"
  },
  "language_info": {
   "codemirror_mode": {
    "name": "ipython",
    "version": 3
   },
   "file_extension": ".py",
   "mimetype": "text/x-python",
   "name": "python",
   "nbconvert_exporter": "python",
   "pygments_lexer": "ipython3",
   "version": "3.12.7"
  }
 },
 "nbformat": 4,
 "nbformat_minor": 5
}
